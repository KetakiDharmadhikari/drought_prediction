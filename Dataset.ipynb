{
 "cells": [
  {
   "cell_type": "code",
   "execution_count": 13,
   "metadata": {},
   "outputs": [
    {
     "data": {
      "text/html": [
       "\n",
       "            <style>\n",
       "                .geemap-dark {\n",
       "                    --jp-widgets-color: white;\n",
       "                    --jp-widgets-label-color: white;\n",
       "                    --jp-ui-font-color1: white;\n",
       "                    --jp-layout-color2: #454545;\n",
       "                    background-color: #383838;\n",
       "                }\n",
       "\n",
       "                .geemap-dark .jupyter-button {\n",
       "                    --jp-layout-color3: #383838;\n",
       "                }\n",
       "\n",
       "                .geemap-colab {\n",
       "                    background-color: var(--colab-primary-surface-color, white);\n",
       "                }\n",
       "\n",
       "                .geemap-colab .jupyter-button {\n",
       "                    --jp-layout-color3: var(--colab-primary-surface-color, white);\n",
       "                }\n",
       "            </style>\n",
       "            "
      ],
      "text/plain": [
       "<IPython.core.display.HTML object>"
      ]
     },
     "metadata": {},
     "output_type": "display_data"
    },
    {
     "name": "stdout",
     "output_type": "stream",
     "text": [
      "Requirement already satisfied: ee in c:\\ketaki dharmadhikari\\engineering\\4th year\\remote sensing oea\\.venv\\lib\\site-packages (0.2)\n",
      "Requirement already satisfied: blessings in c:\\ketaki dharmadhikari\\engineering\\4th year\\remote sensing oea\\.venv\\lib\\site-packages (from ee) (1.7)\n",
      "Requirement already satisfied: six in c:\\ketaki dharmadhikari\\engineering\\4th year\\remote sensing oea\\.venv\\lib\\site-packages (from blessings->ee) (1.17.0)\n",
      "Note: you may need to restart the kernel to use updated packages.\n"
     ]
    },
    {
     "name": "stderr",
     "output_type": "stream",
     "text": [
      "\n",
      "[notice] A new release of pip available: 22.3 -> 25.0.1\n",
      "[notice] To update, run: python.exe -m pip install --upgrade pip\n"
     ]
    }
   ],
   "source": [
    "pip install ee"
   ]
  },
  {
   "cell_type": "code",
   "execution_count": 14,
   "metadata": {},
   "outputs": [
    {
     "data": {
      "text/html": [
       "\n",
       "            <style>\n",
       "                .geemap-dark {\n",
       "                    --jp-widgets-color: white;\n",
       "                    --jp-widgets-label-color: white;\n",
       "                    --jp-ui-font-color1: white;\n",
       "                    --jp-layout-color2: #454545;\n",
       "                    background-color: #383838;\n",
       "                }\n",
       "\n",
       "                .geemap-dark .jupyter-button {\n",
       "                    --jp-layout-color3: #383838;\n",
       "                }\n",
       "\n",
       "                .geemap-colab {\n",
       "                    background-color: var(--colab-primary-surface-color, white);\n",
       "                }\n",
       "\n",
       "                .geemap-colab .jupyter-button {\n",
       "                    --jp-layout-color3: var(--colab-primary-surface-color, white);\n",
       "                }\n",
       "            </style>\n",
       "            "
      ],
      "text/plain": [
       "<IPython.core.display.HTML object>"
      ]
     },
     "metadata": {},
     "output_type": "display_data"
    },
    {
     "name": "stdout",
     "output_type": "stream",
     "text": [
      "Requirement already satisfied: geemap in c:\\ketaki dharmadhikari\\engineering\\4th year\\remote sensing oea\\.venv\\lib\\site-packages (0.35.3)\n",
      "Requirement already satisfied: bqplot in c:\\ketaki dharmadhikari\\engineering\\4th year\\remote sensing oea\\.venv\\lib\\site-packages (from geemap) (0.12.44)\n",
      "Requirement already satisfied: colour in c:\\ketaki dharmadhikari\\engineering\\4th year\\remote sensing oea\\.venv\\lib\\site-packages (from geemap) (0.1.5)\n",
      "Requirement already satisfied: earthengine-api>=1.0.0 in c:\\ketaki dharmadhikari\\engineering\\4th year\\remote sensing oea\\.venv\\lib\\site-packages (from geemap) (1.5.9)\n",
      "Requirement already satisfied: eerepr>=0.1.0 in c:\\ketaki dharmadhikari\\engineering\\4th year\\remote sensing oea\\.venv\\lib\\site-packages (from geemap) (0.1.1)\n",
      "Requirement already satisfied: folium>=0.17.0 in c:\\ketaki dharmadhikari\\engineering\\4th year\\remote sensing oea\\.venv\\lib\\site-packages (from geemap) (0.19.5)\n",
      "Requirement already satisfied: geocoder in c:\\ketaki dharmadhikari\\engineering\\4th year\\remote sensing oea\\.venv\\lib\\site-packages (from geemap) (1.38.1)\n",
      "Requirement already satisfied: ipyevents in c:\\ketaki dharmadhikari\\engineering\\4th year\\remote sensing oea\\.venv\\lib\\site-packages (from geemap) (2.0.2)\n",
      "Requirement already satisfied: ipyfilechooser>=0.6.0 in c:\\ketaki dharmadhikari\\engineering\\4th year\\remote sensing oea\\.venv\\lib\\site-packages (from geemap) (0.6.0)\n",
      "Requirement already satisfied: ipyleaflet>=0.19.2 in c:\\ketaki dharmadhikari\\engineering\\4th year\\remote sensing oea\\.venv\\lib\\site-packages (from geemap) (0.19.2)\n",
      "Requirement already satisfied: ipytree in c:\\ketaki dharmadhikari\\engineering\\4th year\\remote sensing oea\\.venv\\lib\\site-packages (from geemap) (0.2.2)\n",
      "Requirement already satisfied: matplotlib in c:\\ketaki dharmadhikari\\engineering\\4th year\\remote sensing oea\\.venv\\lib\\site-packages (from geemap) (3.10.1)\n",
      "Requirement already satisfied: numpy in c:\\ketaki dharmadhikari\\engineering\\4th year\\remote sensing oea\\.venv\\lib\\site-packages (from geemap) (2.2.4)\n",
      "Requirement already satisfied: pandas in c:\\ketaki dharmadhikari\\engineering\\4th year\\remote sensing oea\\.venv\\lib\\site-packages (from geemap) (2.2.3)\n",
      "Requirement already satisfied: plotly in c:\\ketaki dharmadhikari\\engineering\\4th year\\remote sensing oea\\.venv\\lib\\site-packages (from geemap) (6.0.1)\n",
      "Requirement already satisfied: pyperclip in c:\\ketaki dharmadhikari\\engineering\\4th year\\remote sensing oea\\.venv\\lib\\site-packages (from geemap) (1.9.0)\n",
      "Requirement already satisfied: pyshp>=2.3.1 in c:\\ketaki dharmadhikari\\engineering\\4th year\\remote sensing oea\\.venv\\lib\\site-packages (from geemap) (2.3.1)\n",
      "Requirement already satisfied: python-box in c:\\ketaki dharmadhikari\\engineering\\4th year\\remote sensing oea\\.venv\\lib\\site-packages (from geemap) (7.3.2)\n",
      "Requirement already satisfied: scooby in c:\\ketaki dharmadhikari\\engineering\\4th year\\remote sensing oea\\.venv\\lib\\site-packages (from geemap) (0.10.0)\n",
      "Requirement already satisfied: google-cloud-storage in c:\\ketaki dharmadhikari\\engineering\\4th year\\remote sensing oea\\.venv\\lib\\site-packages (from earthengine-api>=1.0.0->geemap) (3.1.0)\n",
      "Requirement already satisfied: google-api-python-client>=1.12.1 in c:\\ketaki dharmadhikari\\engineering\\4th year\\remote sensing oea\\.venv\\lib\\site-packages (from earthengine-api>=1.0.0->geemap) (2.166.0)\n",
      "Requirement already satisfied: google-auth>=1.4.1 in c:\\ketaki dharmadhikari\\engineering\\4th year\\remote sensing oea\\.venv\\lib\\site-packages (from earthengine-api>=1.0.0->geemap) (2.38.0)\n",
      "Requirement already satisfied: google-auth-httplib2>=0.0.3 in c:\\ketaki dharmadhikari\\engineering\\4th year\\remote sensing oea\\.venv\\lib\\site-packages (from earthengine-api>=1.0.0->geemap) (0.2.0)\n",
      "Requirement already satisfied: httplib2<1dev,>=0.9.2 in c:\\ketaki dharmadhikari\\engineering\\4th year\\remote sensing oea\\.venv\\lib\\site-packages (from earthengine-api>=1.0.0->geemap) (0.22.0)\n",
      "Requirement already satisfied: requests in c:\\ketaki dharmadhikari\\engineering\\4th year\\remote sensing oea\\.venv\\lib\\site-packages (from earthengine-api>=1.0.0->geemap) (2.32.3)\n",
      "Requirement already satisfied: branca>=0.6.0 in c:\\ketaki dharmadhikari\\engineering\\4th year\\remote sensing oea\\.venv\\lib\\site-packages (from folium>=0.17.0->geemap) (0.8.1)\n",
      "Requirement already satisfied: jinja2>=2.9 in c:\\ketaki dharmadhikari\\engineering\\4th year\\remote sensing oea\\.venv\\lib\\site-packages (from folium>=0.17.0->geemap) (3.1.6)\n",
      "Requirement already satisfied: xyzservices in c:\\ketaki dharmadhikari\\engineering\\4th year\\remote sensing oea\\.venv\\lib\\site-packages (from folium>=0.17.0->geemap) (2025.1.0)\n",
      "Requirement already satisfied: ipywidgets in c:\\ketaki dharmadhikari\\engineering\\4th year\\remote sensing oea\\.venv\\lib\\site-packages (from ipyfilechooser>=0.6.0->geemap) (8.1.5)\n",
      "Requirement already satisfied: jupyter-leaflet<0.20,>=0.19 in c:\\ketaki dharmadhikari\\engineering\\4th year\\remote sensing oea\\.venv\\lib\\site-packages (from ipyleaflet>=0.19.2->geemap) (0.19.2)\n",
      "Requirement already satisfied: traittypes<3,>=0.2.1 in c:\\ketaki dharmadhikari\\engineering\\4th year\\remote sensing oea\\.venv\\lib\\site-packages (from ipyleaflet>=0.19.2->geemap) (0.2.1)\n",
      "Requirement already satisfied: traitlets>=4.3.0 in c:\\ketaki dharmadhikari\\engineering\\4th year\\remote sensing oea\\.venv\\lib\\site-packages (from bqplot->geemap) (5.14.3)\n",
      "Requirement already satisfied: python-dateutil>=2.8.2 in c:\\ketaki dharmadhikari\\engineering\\4th year\\remote sensing oea\\.venv\\lib\\site-packages (from pandas->geemap) (2.9.0.post0)\n",
      "Requirement already satisfied: pytz>=2020.1 in c:\\ketaki dharmadhikari\\engineering\\4th year\\remote sensing oea\\.venv\\lib\\site-packages (from pandas->geemap) (2025.2)\n",
      "Requirement already satisfied: tzdata>=2022.7 in c:\\ketaki dharmadhikari\\engineering\\4th year\\remote sensing oea\\.venv\\lib\\site-packages (from pandas->geemap) (2025.2)\n",
      "Requirement already satisfied: click in c:\\ketaki dharmadhikari\\engineering\\4th year\\remote sensing oea\\.venv\\lib\\site-packages (from geocoder->geemap) (8.1.8)\n",
      "Requirement already satisfied: future in c:\\ketaki dharmadhikari\\engineering\\4th year\\remote sensing oea\\.venv\\lib\\site-packages (from geocoder->geemap) (1.0.0)\n",
      "Requirement already satisfied: ratelim in c:\\ketaki dharmadhikari\\engineering\\4th year\\remote sensing oea\\.venv\\lib\\site-packages (from geocoder->geemap) (0.1.6)\n",
      "Requirement already satisfied: six in c:\\ketaki dharmadhikari\\engineering\\4th year\\remote sensing oea\\.venv\\lib\\site-packages (from geocoder->geemap) (1.17.0)\n",
      "Requirement already satisfied: contourpy>=1.0.1 in c:\\ketaki dharmadhikari\\engineering\\4th year\\remote sensing oea\\.venv\\lib\\site-packages (from matplotlib->geemap) (1.3.1)\n",
      "Requirement already satisfied: cycler>=0.10 in c:\\ketaki dharmadhikari\\engineering\\4th year\\remote sensing oea\\.venv\\lib\\site-packages (from matplotlib->geemap) (0.12.1)\n",
      "Requirement already satisfied: fonttools>=4.22.0 in c:\\ketaki dharmadhikari\\engineering\\4th year\\remote sensing oea\\.venv\\lib\\site-packages (from matplotlib->geemap) (4.57.0)\n",
      "Requirement already satisfied: kiwisolver>=1.3.1 in c:\\ketaki dharmadhikari\\engineering\\4th year\\remote sensing oea\\.venv\\lib\\site-packages (from matplotlib->geemap) (1.4.8)\n",
      "Requirement already satisfied: packaging>=20.0 in c:\\ketaki dharmadhikari\\engineering\\4th year\\remote sensing oea\\.venv\\lib\\site-packages (from matplotlib->geemap) (24.2)\n",
      "Requirement already satisfied: pillow>=8 in c:\\ketaki dharmadhikari\\engineering\\4th year\\remote sensing oea\\.venv\\lib\\site-packages (from matplotlib->geemap) (11.1.0)\n",
      "Requirement already satisfied: pyparsing>=2.3.1 in c:\\ketaki dharmadhikari\\engineering\\4th year\\remote sensing oea\\.venv\\lib\\site-packages (from matplotlib->geemap) (3.2.3)\n",
      "Requirement already satisfied: narwhals>=1.15.1 in c:\\ketaki dharmadhikari\\engineering\\4th year\\remote sensing oea\\.venv\\lib\\site-packages (from plotly->geemap) (1.34.1)\n",
      "Requirement already satisfied: google-api-core!=2.0.*,!=2.1.*,!=2.2.*,!=2.3.0,<3.0.0,>=1.31.5 in c:\\ketaki dharmadhikari\\engineering\\4th year\\remote sensing oea\\.venv\\lib\\site-packages (from google-api-python-client>=1.12.1->earthengine-api>=1.0.0->geemap) (2.24.2)\n",
      "Requirement already satisfied: uritemplate<5,>=3.0.1 in c:\\ketaki dharmadhikari\\engineering\\4th year\\remote sensing oea\\.venv\\lib\\site-packages (from google-api-python-client>=1.12.1->earthengine-api>=1.0.0->geemap) (4.1.1)\n",
      "Requirement already satisfied: cachetools<6.0,>=2.0.0 in c:\\ketaki dharmadhikari\\engineering\\4th year\\remote sensing oea\\.venv\\lib\\site-packages (from google-auth>=1.4.1->earthengine-api>=1.0.0->geemap) (5.5.2)\n",
      "Requirement already satisfied: pyasn1-modules>=0.2.1 in c:\\ketaki dharmadhikari\\engineering\\4th year\\remote sensing oea\\.venv\\lib\\site-packages (from google-auth>=1.4.1->earthengine-api>=1.0.0->geemap) (0.4.2)\n",
      "Requirement already satisfied: rsa<5,>=3.1.4 in c:\\ketaki dharmadhikari\\engineering\\4th year\\remote sensing oea\\.venv\\lib\\site-packages (from google-auth>=1.4.1->earthengine-api>=1.0.0->geemap) (4.9)\n",
      "Requirement already satisfied: comm>=0.1.3 in c:\\ketaki dharmadhikari\\engineering\\4th year\\remote sensing oea\\.venv\\lib\\site-packages (from ipywidgets->ipyfilechooser>=0.6.0->geemap) (0.2.2)\n",
      "Requirement already satisfied: ipython>=6.1.0 in c:\\ketaki dharmadhikari\\engineering\\4th year\\remote sensing oea\\.venv\\lib\\site-packages (from ipywidgets->ipyfilechooser>=0.6.0->geemap) (9.1.0)\n",
      "Requirement already satisfied: widgetsnbextension~=4.0.12 in c:\\ketaki dharmadhikari\\engineering\\4th year\\remote sensing oea\\.venv\\lib\\site-packages (from ipywidgets->ipyfilechooser>=0.6.0->geemap) (4.0.13)\n",
      "Requirement already satisfied: jupyterlab-widgets~=3.0.12 in c:\\ketaki dharmadhikari\\engineering\\4th year\\remote sensing oea\\.venv\\lib\\site-packages (from ipywidgets->ipyfilechooser>=0.6.0->geemap) (3.0.13)\n",
      "Requirement already satisfied: MarkupSafe>=2.0 in c:\\ketaki dharmadhikari\\engineering\\4th year\\remote sensing oea\\.venv\\lib\\site-packages (from jinja2>=2.9->folium>=0.17.0->geemap) (3.0.2)\n",
      "Requirement already satisfied: colorama in c:\\ketaki dharmadhikari\\engineering\\4th year\\remote sensing oea\\.venv\\lib\\site-packages (from click->geocoder->geemap) (0.4.6)\n",
      "Requirement already satisfied: google-cloud-core<3.0dev,>=2.4.2 in c:\\ketaki dharmadhikari\\engineering\\4th year\\remote sensing oea\\.venv\\lib\\site-packages (from google-cloud-storage->earthengine-api>=1.0.0->geemap) (2.4.3)\n",
      "Requirement already satisfied: google-resumable-media>=2.7.2 in c:\\ketaki dharmadhikari\\engineering\\4th year\\remote sensing oea\\.venv\\lib\\site-packages (from google-cloud-storage->earthengine-api>=1.0.0->geemap) (2.7.2)\n",
      "Requirement already satisfied: google-crc32c<2.0dev,>=1.0 in c:\\ketaki dharmadhikari\\engineering\\4th year\\remote sensing oea\\.venv\\lib\\site-packages (from google-cloud-storage->earthengine-api>=1.0.0->geemap) (1.7.1)\n",
      "Requirement already satisfied: charset-normalizer<4,>=2 in c:\\ketaki dharmadhikari\\engineering\\4th year\\remote sensing oea\\.venv\\lib\\site-packages (from requests->earthengine-api>=1.0.0->geemap) (3.4.1)\n",
      "Requirement already satisfied: idna<4,>=2.5 in c:\\ketaki dharmadhikari\\engineering\\4th year\\remote sensing oea\\.venv\\lib\\site-packages (from requests->earthengine-api>=1.0.0->geemap) (3.10)\n",
      "Requirement already satisfied: urllib3<3,>=1.21.1 in c:\\ketaki dharmadhikari\\engineering\\4th year\\remote sensing oea\\.venv\\lib\\site-packages (from requests->earthengine-api>=1.0.0->geemap) (2.3.0)\n",
      "Requirement already satisfied: certifi>=2017.4.17 in c:\\ketaki dharmadhikari\\engineering\\4th year\\remote sensing oea\\.venv\\lib\\site-packages (from requests->earthengine-api>=1.0.0->geemap) (2025.1.31)\n",
      "Requirement already satisfied: decorator in c:\\ketaki dharmadhikari\\engineering\\4th year\\remote sensing oea\\.venv\\lib\\site-packages (from ratelim->geocoder->geemap) (5.2.1)\n",
      "Requirement already satisfied: googleapis-common-protos<2.0.0,>=1.56.2 in c:\\ketaki dharmadhikari\\engineering\\4th year\\remote sensing oea\\.venv\\lib\\site-packages (from google-api-core!=2.0.*,!=2.1.*,!=2.2.*,!=2.3.0,<3.0.0,>=1.31.5->google-api-python-client>=1.12.1->earthengine-api>=1.0.0->geemap) (1.69.2)\n",
      "Requirement already satisfied: protobuf!=3.20.0,!=3.20.1,!=4.21.0,!=4.21.1,!=4.21.2,!=4.21.3,!=4.21.4,!=4.21.5,<7.0.0,>=3.19.5 in c:\\ketaki dharmadhikari\\engineering\\4th year\\remote sensing oea\\.venv\\lib\\site-packages (from google-api-core!=2.0.*,!=2.1.*,!=2.2.*,!=2.3.0,<3.0.0,>=1.31.5->google-api-python-client>=1.12.1->earthengine-api>=1.0.0->geemap) (6.30.2)\n",
      "Requirement already satisfied: proto-plus<2.0.0,>=1.22.3 in c:\\ketaki dharmadhikari\\engineering\\4th year\\remote sensing oea\\.venv\\lib\\site-packages (from google-api-core!=2.0.*,!=2.1.*,!=2.2.*,!=2.3.0,<3.0.0,>=1.31.5->google-api-python-client>=1.12.1->earthengine-api>=1.0.0->geemap) (1.26.1)\n",
      "Requirement already satisfied: ipython-pygments-lexers in c:\\ketaki dharmadhikari\\engineering\\4th year\\remote sensing oea\\.venv\\lib\\site-packages (from ipython>=6.1.0->ipywidgets->ipyfilechooser>=0.6.0->geemap) (1.1.1)\n",
      "Requirement already satisfied: jedi>=0.16 in c:\\ketaki dharmadhikari\\engineering\\4th year\\remote sensing oea\\.venv\\lib\\site-packages (from ipython>=6.1.0->ipywidgets->ipyfilechooser>=0.6.0->geemap) (0.19.2)\n",
      "Requirement already satisfied: matplotlib-inline in c:\\ketaki dharmadhikari\\engineering\\4th year\\remote sensing oea\\.venv\\lib\\site-packages (from ipython>=6.1.0->ipywidgets->ipyfilechooser>=0.6.0->geemap) (0.1.7)\n",
      "Requirement already satisfied: prompt_toolkit<3.1.0,>=3.0.41 in c:\\ketaki dharmadhikari\\engineering\\4th year\\remote sensing oea\\.venv\\lib\\site-packages (from ipython>=6.1.0->ipywidgets->ipyfilechooser>=0.6.0->geemap) (3.0.50)\n",
      "Requirement already satisfied: pygments>=2.4.0 in c:\\ketaki dharmadhikari\\engineering\\4th year\\remote sensing oea\\.venv\\lib\\site-packages (from ipython>=6.1.0->ipywidgets->ipyfilechooser>=0.6.0->geemap) (2.19.1)\n",
      "Requirement already satisfied: stack_data in c:\\ketaki dharmadhikari\\engineering\\4th year\\remote sensing oea\\.venv\\lib\\site-packages (from ipython>=6.1.0->ipywidgets->ipyfilechooser>=0.6.0->geemap) (0.6.3)\n",
      "Requirement already satisfied: typing_extensions>=4.6 in c:\\ketaki dharmadhikari\\engineering\\4th year\\remote sensing oea\\.venv\\lib\\site-packages (from ipython>=6.1.0->ipywidgets->ipyfilechooser>=0.6.0->geemap) (4.13.1)\n",
      "Requirement already satisfied: pyasn1<0.7.0,>=0.6.1 in c:\\ketaki dharmadhikari\\engineering\\4th year\\remote sensing oea\\.venv\\lib\\site-packages (from pyasn1-modules>=0.2.1->google-auth>=1.4.1->earthengine-api>=1.0.0->geemap) (0.6.1)\n",
      "Requirement already satisfied: parso<0.9.0,>=0.8.4 in c:\\ketaki dharmadhikari\\engineering\\4th year\\remote sensing oea\\.venv\\lib\\site-packages (from jedi>=0.16->ipython>=6.1.0->ipywidgets->ipyfilechooser>=0.6.0->geemap) (0.8.4)\n",
      "Requirement already satisfied: wcwidth in c:\\ketaki dharmadhikari\\engineering\\4th year\\remote sensing oea\\.venv\\lib\\site-packages (from prompt_toolkit<3.1.0,>=3.0.41->ipython>=6.1.0->ipywidgets->ipyfilechooser>=0.6.0->geemap) (0.2.13)\n",
      "Requirement already satisfied: executing>=1.2.0 in c:\\ketaki dharmadhikari\\engineering\\4th year\\remote sensing oea\\.venv\\lib\\site-packages (from stack_data->ipython>=6.1.0->ipywidgets->ipyfilechooser>=0.6.0->geemap) (2.2.0)\n",
      "Requirement already satisfied: asttokens>=2.1.0 in c:\\ketaki dharmadhikari\\engineering\\4th year\\remote sensing oea\\.venv\\lib\\site-packages (from stack_data->ipython>=6.1.0->ipywidgets->ipyfilechooser>=0.6.0->geemap) (3.0.0)\n",
      "Requirement already satisfied: pure-eval in c:\\ketaki dharmadhikari\\engineering\\4th year\\remote sensing oea\\.venv\\lib\\site-packages (from stack_data->ipython>=6.1.0->ipywidgets->ipyfilechooser>=0.6.0->geemap) (0.2.3)\n",
      "Note: you may need to restart the kernel to use updated packages.\n"
     ]
    },
    {
     "name": "stderr",
     "output_type": "stream",
     "text": [
      "\n",
      "[notice] A new release of pip available: 22.3 -> 25.0.1\n",
      "[notice] To update, run: python.exe -m pip install --upgrade pip\n"
     ]
    }
   ],
   "source": [
    "pip install geemap"
   ]
  },
  {
   "cell_type": "code",
   "execution_count": 15,
   "metadata": {},
   "outputs": [
    {
     "data": {
      "text/html": [
       "\n",
       "            <style>\n",
       "                .geemap-dark {\n",
       "                    --jp-widgets-color: white;\n",
       "                    --jp-widgets-label-color: white;\n",
       "                    --jp-ui-font-color1: white;\n",
       "                    --jp-layout-color2: #454545;\n",
       "                    background-color: #383838;\n",
       "                }\n",
       "\n",
       "                .geemap-dark .jupyter-button {\n",
       "                    --jp-layout-color3: #383838;\n",
       "                }\n",
       "\n",
       "                .geemap-colab {\n",
       "                    background-color: var(--colab-primary-surface-color, white);\n",
       "                }\n",
       "\n",
       "                .geemap-colab .jupyter-button {\n",
       "                    --jp-layout-color3: var(--colab-primary-surface-color, white);\n",
       "                }\n",
       "            </style>\n",
       "            "
      ],
      "text/plain": [
       "<IPython.core.display.HTML object>"
      ]
     },
     "metadata": {},
     "output_type": "display_data"
    }
   ],
   "source": [
    "import ee\n",
    "import geemap  \n",
    "ee.Authenticate()\n",
    "ee.Initialize(project='ee-kmd232323')"
   ]
  },
  {
   "cell_type": "code",
   "execution_count": 29,
   "metadata": {},
   "outputs": [
    {
     "data": {
      "text/html": [
       "\n",
       "            <style>\n",
       "                .geemap-dark {\n",
       "                    --jp-widgets-color: white;\n",
       "                    --jp-widgets-label-color: white;\n",
       "                    --jp-ui-font-color1: white;\n",
       "                    --jp-layout-color2: #454545;\n",
       "                    background-color: #383838;\n",
       "                }\n",
       "\n",
       "                .geemap-dark .jupyter-button {\n",
       "                    --jp-layout-color3: #383838;\n",
       "                }\n",
       "\n",
       "                .geemap-colab {\n",
       "                    background-color: var(--colab-primary-surface-color, white);\n",
       "                }\n",
       "\n",
       "                .geemap-colab .jupyter-button {\n",
       "                    --jp-layout-color3: var(--colab-primary-surface-color, white);\n",
       "                }\n",
       "            </style>\n",
       "            "
      ],
      "text/plain": [
       "<IPython.core.display.HTML object>"
      ]
     },
     "metadata": {},
     "output_type": "display_data"
    },
    {
     "name": "stdout",
     "output_type": "stream",
     "text": [
      "Number of monthly rainfall images in collection: 14\n",
      "Number of LST images in collection: 14\n",
      "Number of images in monthly_collection: 14\n",
      "Number of merged images: 14\n"
     ]
    }
   ],
   "source": [
    "\n",
    "maha = ee.FeatureCollection(\"users/kmd232323/Maharashtra_shape\")\n",
    "years = [2021, 2022]\n",
    "months = range(5, 12)\n",
    "\n",
    "\n",
    "# Function to calculate NDVI\n",
    "def addNDVI(image):\n",
    "    ndvi = image.normalizedDifference(['sur_refl_b02', 'sur_refl_b01']).rename('NDVI')\n",
    "    return image.addBands(ndvi)\n",
    "\n",
    "# Function to calculate NDWI\n",
    "def addNDWI(image):\n",
    "    ndwi = image.normalizedDifference(['sur_refl_b04', 'sur_refl_b02']).rename('NDWI')\n",
    "    return image.addBands(ndwi)\n",
    "\n",
    "# Function to scale LST to Celsius\n",
    "def scaleLST(image):\n",
    "    lst_celsius = image.select('LST_Day_1km').multiply(0.02).subtract(273.15).rename('LST')\n",
    "    return image.addBands(lst_celsius)\n",
    "\n",
    "# Function to retrieve images for the 1st and 15th/16th of each month\n",
    "def get_ndvi_ndwi_for_month(year, month):\n",
    "    \"\"\"\n",
    "    Retrieves a representative image from the MODIS/061/MOD09GA collection for the given year and month,\n",
    "    and computes NDVI and NDWI on that image.\n",
    "    \"\"\"\n",
    "    # Define the start and end dates for the month\n",
    "    start_date = ee.Date.fromYMD(year, month, 1)\n",
    "    end_date = start_date.advance(1, 'month')\n",
    "    \n",
    "    # Load the MOD09GA collection (Surface Reflectance) and filter by date and region\n",
    "    mod09ga = ee.ImageCollection(\"MODIS/061/MOD09GA\") \\\n",
    "                .filterBounds(maha) \\\n",
    "                .filterDate(start_date, end_date)\n",
    "    \n",
    "    # Map the NDVI and NDWI functions over the collection\n",
    "    mod09ga = mod09ga.map(addNDVI).map(addNDWI)\n",
    "    \n",
    "    # Return the first available image with NDVI and NDWI computed\n",
    "    return mod09ga.first()\n",
    "\n",
    "\n",
    "# Function to retrieve LST data for the 1st and 15th/16th of each month\n",
    "def get_lst_for_month(year, month):\n",
    "    \"\"\"\n",
    "    Retrieves a representative LST image (first available image) \n",
    "    from the MODIS/061/MOD11A1 collection for the given year and month.\n",
    "    The image is scaled to Celsius using the scaleLST function.\n",
    "    \"\"\"\n",
    "    # Define the start and end dates for the month\n",
    "    start_date = ee.Date.fromYMD(year, month, 1)\n",
    "    end_date = start_date.advance(1, 'month')\n",
    "    \n",
    "    # Load the MOD11A1 collection (Land Surface Temperature)\n",
    "    mod11a1 = ee.ImageCollection(\"MODIS/061/MOD11A1\") \\\n",
    "                .filterBounds(maha) \\\n",
    "                .filterDate(start_date, end_date) \\\n",
    "                .map(scaleLST)\n",
    "    \n",
    "    # Return the first available image in the month\n",
    "    return mod11a1.first()\n",
    "\n",
    "# Function to retrieve CHIRPS rainfall data for the 1st and 15th/16th of each month\n",
    "def get_rainfall_for_month(year, month):\n",
    "    \"\"\"\n",
    "    Retrieves a representative monthly rainfall image from the CHIRPS daily collection \n",
    "    for the given year and month. The image is computed as the sum of daily rainfall values.\n",
    "    \"\"\"\n",
    "    # Define the start and end dates for the month\n",
    "    start_date = ee.Date.fromYMD(year, month, 1)\n",
    "    end_date = start_date.advance(1, 'month')\n",
    "    \n",
    "    # Load the CHIRPS daily rainfall data and filter by date and region\n",
    "    chirps = ee.ImageCollection(\"UCSB-CHG/CHIRPS/DAILY\") \\\n",
    "                .filterBounds(maha) \\\n",
    "                .filterDate(start_date, end_date)\n",
    "    \n",
    "    # Compute the monthly sum of rainfall\n",
    "    monthly_rainfall = chirps.sum().rename(\"Rainfall\")\n",
    "    \n",
    "    # Set the time property to the start of the month (for consistency)\n",
    "    monthly_rainfall = monthly_rainfall.set('system:time_start', start_date.millis())\n",
    "    \n",
    "    return monthly_rainfall\n",
    "\n",
    "\n",
    "ndvi_ndwi_images = []\n",
    "for year in years:\n",
    "    for month in months:\n",
    "        ndvi_ndwi_image = get_ndvi_ndwi_for_month(2021, 5)\n",
    "        if ndvi_ndwi_image:\n",
    "            ndvi_ndwi_images.append(ndvi_ndwi_image)\n",
    "\n",
    "lst_images = []\n",
    "for year in [2021, 2022]:\n",
    "    for month in range(5, 12):  # May to November\n",
    "        lst_img = get_lst_for_month(year, month)\n",
    "        if lst_img:\n",
    "            lst_images.append(lst_img)\n",
    "\n",
    "rainfall_images = []\n",
    "for year in [2021, 2022]:\n",
    "    for month in range(5, 12):  # May to November\n",
    "        img = get_rainfall_for_month(year, month)\n",
    "        if img:\n",
    "            rainfall_images.append(img)\n",
    "\n",
    "# Convert the list to an ImageCollection\n",
    "rainfall_collection = ee.ImageCollection(rainfall_images)\n",
    "print(\"Number of monthly rainfall images in collection:\", rainfall_collection.size().getInfo())\n",
    "\n",
    "# Convert the list of LST images to an ImageCollection\n",
    "lst_collection = ee.ImageCollection(lst_images)\n",
    "print(\"Number of LST images in collection:\", lst_collection.size().getInfo())\n",
    "\n",
    "ndvi_ndwi_collection = ee.ImageCollection(ndvi_ndwi_images)\n",
    "print(\"Number of images in monthly_collection:\", ndvi_ndwi_collection.size().getInfo())\n",
    "\n",
    "\n",
    "# Remove any null entries (dates with no available images)\n",
    "ndvi_ndwi_images = [img for img in ndvi_ndwi_images if img]\n",
    "lst_images = [img for img in lst_images if img]\n",
    "rainfall_images = [img for img in rainfall_images if img]\n",
    "\n",
    "# Convert lists to ImageCollections\n",
    "ndvi_ndwi_collection = ee.ImageCollection(ndvi_ndwi_images).map(addNDVI).map(addNDWI)\n",
    "lst_collection = ee.ImageCollection(lst_images)\n",
    "rainfall_collection = ee.ImageCollection(rainfall_images)\n",
    "\n",
    "# Function to merge all bands from different collections into a single image\n",
    "def merge_bands(lst_img):\n",
    "    # Get the date of the LST image\n",
    "    date = ee.Date(lst_img.get('system:time_start'))\n",
    "\n",
    "    # Find the closest NDVI/NDWI image by sorting by date difference\n",
    "    ndvi_ndwi_img = ndvi_ndwi_collection.sort('system:time_start').map(\n",
    "        lambda img: img.set('diff', ee.Number(img.date().difference(date, 'day')).abs())\n",
    "    ).sort('diff').first()\n",
    "\n",
    "    # Same for rainfall\n",
    "    rainfall_img = rainfall_collection.sort('system:time_start').map(\n",
    "        lambda img: img.set('diff', ee.Number(img.date().difference(date, 'day')).abs())\n",
    "    ).sort('diff').first()\n",
    "\n",
    "    # Start with the LST image\n",
    "    merged = lst_img\n",
    "\n",
    "    # Add NDVI/NDWI if available\n",
    "    merged = ee.Algorithms.If(ndvi_ndwi_img,\n",
    "        merged.addBands(ee.Image(ndvi_ndwi_img).select(['NDVI', 'NDWI'])),\n",
    "        merged)\n",
    "\n",
    "    # Add rainfall if available\n",
    "    merged = ee.Algorithms.If(rainfall_img,\n",
    "        ee.Image(merged).addBands(ee.Image(rainfall_img).select('Rainfall')),\n",
    "        merged)\n",
    "\n",
    "    return ee.Image(merged)\n",
    "\n",
    "\n",
    "\n",
    "merged_collection = lst_collection.map(merge_bands)\n",
    "print(\"Number of merged images:\", merged_collection.size().getInfo())"
   ]
  },
  {
   "cell_type": "code",
   "execution_count": 36,
   "metadata": {},
   "outputs": [
    {
     "data": {
      "text/html": [
       "\n",
       "            <style>\n",
       "                .geemap-dark {\n",
       "                    --jp-widgets-color: white;\n",
       "                    --jp-widgets-label-color: white;\n",
       "                    --jp-ui-font-color1: white;\n",
       "                    --jp-layout-color2: #454545;\n",
       "                    background-color: #383838;\n",
       "                }\n",
       "\n",
       "                .geemap-dark .jupyter-button {\n",
       "                    --jp-layout-color3: #383838;\n",
       "                }\n",
       "\n",
       "                .geemap-colab {\n",
       "                    background-color: var(--colab-primary-surface-color, white);\n",
       "                }\n",
       "\n",
       "                .geemap-colab .jupyter-button {\n",
       "                    --jp-layout-color3: var(--colab-primary-surface-color, white);\n",
       "                }\n",
       "            </style>\n",
       "            "
      ],
      "text/plain": [
       "<IPython.core.display.HTML object>"
      ]
     },
     "metadata": {},
     "output_type": "display_data"
    },
    {
     "name": "stdout",
     "output_type": "stream",
     "text": [
      "Total images in merged_collection: 14\n",
      "Image for: 2021-05\n"
     ]
    },
    {
     "data": {
      "text/html": [
       "<img src=\"https://earthengine.googleapis.com/v1/projects/950221595594/thumbnails/65cdfa32d2e8474bcf74d924ebcb7d57-bed5b382710c87d122cd2b9a2de2aa82:getPixels\"/>"
      ],
      "text/plain": [
       "<IPython.core.display.Image object>"
      ]
     },
     "metadata": {},
     "output_type": "display_data"
    },
    {
     "name": "stdout",
     "output_type": "stream",
     "text": [
      "Image for: 2021-06\n"
     ]
    },
    {
     "data": {
      "text/html": [
       "<img src=\"https://earthengine.googleapis.com/v1/projects/950221595594/thumbnails/b5c5b940023111e0ad55232008807888-372dbbdf1ee6d775780da3923b28f3b1:getPixels\"/>"
      ],
      "text/plain": [
       "<IPython.core.display.Image object>"
      ]
     },
     "metadata": {},
     "output_type": "display_data"
    },
    {
     "name": "stdout",
     "output_type": "stream",
     "text": [
      "Image for: 2021-07\n"
     ]
    },
    {
     "data": {
      "text/html": [
       "<img src=\"https://earthengine.googleapis.com/v1/projects/950221595594/thumbnails/65920880fab4e4e1fcab099c33fd7261-245e8c787be405dbf1d6435765781f3e:getPixels\"/>"
      ],
      "text/plain": [
       "<IPython.core.display.Image object>"
      ]
     },
     "metadata": {},
     "output_type": "display_data"
    },
    {
     "name": "stdout",
     "output_type": "stream",
     "text": [
      "Image for: 2021-08\n"
     ]
    },
    {
     "data": {
      "text/html": [
       "<img src=\"https://earthengine.googleapis.com/v1/projects/950221595594/thumbnails/24c3e920d0d928f1faee01d96ba1ef2e-8d5ae3b70a8bc38686701e1931ae6913:getPixels\"/>"
      ],
      "text/plain": [
       "<IPython.core.display.Image object>"
      ]
     },
     "metadata": {},
     "output_type": "display_data"
    },
    {
     "name": "stdout",
     "output_type": "stream",
     "text": [
      "Image for: 2021-09\n"
     ]
    },
    {
     "data": {
      "text/html": [
       "<img src=\"https://earthengine.googleapis.com/v1/projects/950221595594/thumbnails/25a8e576702dda428a1705f791d438ed-2a1e1b69f6a3d8b2d801d29ccd729614:getPixels\"/>"
      ],
      "text/plain": [
       "<IPython.core.display.Image object>"
      ]
     },
     "metadata": {},
     "output_type": "display_data"
    },
    {
     "name": "stdout",
     "output_type": "stream",
     "text": [
      "Image for: 2021-10\n"
     ]
    },
    {
     "data": {
      "text/html": [
       "<img src=\"https://earthengine.googleapis.com/v1/projects/950221595594/thumbnails/629c50d19445ea7d41fd50dc7d4c23b1-1c6fb0b73985c2147b6a573758f776b2:getPixels\"/>"
      ],
      "text/plain": [
       "<IPython.core.display.Image object>"
      ]
     },
     "metadata": {},
     "output_type": "display_data"
    },
    {
     "name": "stdout",
     "output_type": "stream",
     "text": [
      "Image for: 2021-11\n"
     ]
    },
    {
     "data": {
      "text/html": [
       "<img src=\"https://earthengine.googleapis.com/v1/projects/950221595594/thumbnails/1cdf524015758b0cb5163563d67d7fb6-bf14ddaea0e55de3466e359a07a5c086:getPixels\"/>"
      ],
      "text/plain": [
       "<IPython.core.display.Image object>"
      ]
     },
     "metadata": {},
     "output_type": "display_data"
    },
    {
     "name": "stdout",
     "output_type": "stream",
     "text": [
      "Image for: 2022-05\n"
     ]
    },
    {
     "data": {
      "text/html": [
       "<img src=\"https://earthengine.googleapis.com/v1/projects/950221595594/thumbnails/822c04c91373a547d61bba5d6df11913-24e8921fc2cd8d9b3598ae1e3db6f6c1:getPixels\"/>"
      ],
      "text/plain": [
       "<IPython.core.display.Image object>"
      ]
     },
     "metadata": {},
     "output_type": "display_data"
    },
    {
     "name": "stdout",
     "output_type": "stream",
     "text": [
      "Image for: 2022-06\n"
     ]
    },
    {
     "data": {
      "text/html": [
       "<img src=\"https://earthengine.googleapis.com/v1/projects/950221595594/thumbnails/87587423d929b43d1696fa32d91bbd96-23109d15e926f2398d94d870be31a5a0:getPixels\"/>"
      ],
      "text/plain": [
       "<IPython.core.display.Image object>"
      ]
     },
     "metadata": {},
     "output_type": "display_data"
    },
    {
     "name": "stdout",
     "output_type": "stream",
     "text": [
      "Image for: 2022-07\n"
     ]
    },
    {
     "data": {
      "text/html": [
       "<img src=\"https://earthengine.googleapis.com/v1/projects/950221595594/thumbnails/16e306bfee69a5504402453f50582e73-1ff1c78d74c4f68367d06768c0d8f0a6:getPixels\"/>"
      ],
      "text/plain": [
       "<IPython.core.display.Image object>"
      ]
     },
     "metadata": {},
     "output_type": "display_data"
    },
    {
     "name": "stdout",
     "output_type": "stream",
     "text": [
      "Image for: 2022-08\n"
     ]
    },
    {
     "data": {
      "text/html": [
       "<img src=\"https://earthengine.googleapis.com/v1/projects/950221595594/thumbnails/ae9d64523e10da25caf7ae4e6e54acbf-1c75d0071f0f4f87f46a0158289e0513:getPixels\"/>"
      ],
      "text/plain": [
       "<IPython.core.display.Image object>"
      ]
     },
     "metadata": {},
     "output_type": "display_data"
    },
    {
     "name": "stdout",
     "output_type": "stream",
     "text": [
      "Image for: 2022-09\n"
     ]
    },
    {
     "data": {
      "text/html": [
       "<img src=\"https://earthengine.googleapis.com/v1/projects/950221595594/thumbnails/bc97b220df8ca4b6dc4f8388ac4df6e4-3a39cb14063fd3f686a1bd575f80f86d:getPixels\"/>"
      ],
      "text/plain": [
       "<IPython.core.display.Image object>"
      ]
     },
     "metadata": {},
     "output_type": "display_data"
    },
    {
     "name": "stdout",
     "output_type": "stream",
     "text": [
      "Image for: 2022-10\n"
     ]
    },
    {
     "data": {
      "text/html": [
       "<img src=\"https://earthengine.googleapis.com/v1/projects/950221595594/thumbnails/95bb11cddcdb80c10c3af4eff1f8533c-150cd3ed92406d57d0a3e5c3914fc831:getPixels\"/>"
      ],
      "text/plain": [
       "<IPython.core.display.Image object>"
      ]
     },
     "metadata": {},
     "output_type": "display_data"
    },
    {
     "name": "stdout",
     "output_type": "stream",
     "text": [
      "Image for: 2022-11\n"
     ]
    },
    {
     "data": {
      "text/html": [
       "<img src=\"https://earthengine.googleapis.com/v1/projects/950221595594/thumbnails/c10d0c38435f6d13c2f460bc38cf2973-29bbbdf32992f03b521b433292c67ee3:getPixels\"/>"
      ],
      "text/plain": [
       "<IPython.core.display.Image object>"
      ]
     },
     "metadata": {},
     "output_type": "display_data"
    }
   ],
   "source": [
    "\n",
    "from IPython.display import Image, display\n",
    "\n",
    "# Assume Earth Engine is already initialized and merged_collection is defined.\n",
    "# Also assume maha is your Maharashtra FeatureCollection.\n",
    "\n",
    "# Define visualization parameters for NDVI\n",
    "vis_params = {\n",
    "    'bands': ['NDVI'],\n",
    "    'min': 0,\n",
    "    'max': 1,\n",
    "    'palette': ['blue', 'white', 'green']\n",
    "}\n",
    "\n",
    "# Get the region geometry as a GeoJSON-like dictionary (used for thumbnail export)\n",
    "region = maha.geometry().getInfo()  # This returns the full geometry dict\n",
    "\n",
    "\n",
    "# Convert the merged_collection to a list to iterate over images\n",
    "num_images = merged_collection.size().getInfo()\n",
    "print(\"Total images in merged_collection:\", num_images)\n",
    "\n",
    "merged_list = merged_collection.toList(num_images)\n",
    "\n",
    "# Loop over each image, get its thumbnail URL, and display it\n",
    "for i in range(num_images):\n",
    "    img = ee.Image(merged_list.get(i))\n",
    "    # Format the date for display (e.g., \"2021-05\")\n",
    "    date_str = ee.Date(img.get('system:time_start')).format('YYYY-MM').getInfo()\n",
    "    \n",
    "    # Prepare thumbnail parameters. Dimensions can be adjusted as needed.\n",
    "    thumb_params = {\n",
    "        'min': vis_params['min'],\n",
    "        'max': vis_params['max'],\n",
    "        'palette': vis_params['palette'],\n",
    "        'region': region,\n",
    "        'dimensions': 512  # Adjust the dimensions if necessary\n",
    "    }\n",
    "    \n",
    "    # Get the thumbnail URL for the NDVI band (you can change vis_params['bands'] if desired)\n",
    "    thumb_url = img.select(vis_params['bands']).getThumbURL(thumb_params)\n",
    "    \n",
    "    # Print the date and display the image\n",
    "    print(\"Image for:\", date_str)\n",
    "    display(Image(url=thumb_url))\n"
   ]
  }
 ],
 "metadata": {
  "kernelspec": {
   "display_name": ".venv",
   "language": "python",
   "name": "python3"
  },
  "language_info": {
   "codemirror_mode": {
    "name": "ipython",
    "version": 3
   },
   "file_extension": ".py",
   "mimetype": "text/x-python",
   "name": "python",
   "nbconvert_exporter": "python",
   "pygments_lexer": "ipython3",
   "version": "3.11.0"
  }
 },
 "nbformat": 4,
 "nbformat_minor": 2
}
