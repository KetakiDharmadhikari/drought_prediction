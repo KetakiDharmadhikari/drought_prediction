{
 "cells": [
  {
   "cell_type": "code",
   "execution_count": 3,
   "metadata": {},
   "outputs": [
    {
     "data": {
      "text/html": [
       "\n",
       "            <style>\n",
       "                .geemap-dark {\n",
       "                    --jp-widgets-color: white;\n",
       "                    --jp-widgets-label-color: white;\n",
       "                    --jp-ui-font-color1: white;\n",
       "                    --jp-layout-color2: #454545;\n",
       "                    background-color: #383838;\n",
       "                }\n",
       "\n",
       "                .geemap-dark .jupyter-button {\n",
       "                    --jp-layout-color3: #383838;\n",
       "                }\n",
       "\n",
       "                .geemap-colab {\n",
       "                    background-color: var(--colab-primary-surface-color, white);\n",
       "                }\n",
       "\n",
       "                .geemap-colab .jupyter-button {\n",
       "                    --jp-layout-color3: var(--colab-primary-surface-color, white);\n",
       "                }\n",
       "            </style>\n",
       "            "
      ],
      "text/plain": [
       "<IPython.core.display.HTML object>"
      ]
     },
     "metadata": {},
     "output_type": "display_data"
    }
   ],
   "source": [
    "import ee\n",
    "import seaborn as sns\n",
    "import matplotlib.pyplot as plt\n",
    "import pandas as pd\n",
    "from sklearn.model_selection import train_test_split\n",
    "from sklearn.preprocessing import LabelEncoder, MinMaxScaler\n",
    "from sklearn.ensemble import RandomForestClassifier\n",
    "from sklearn.metrics import classification_report, confusion_matrix\n"
   ]
  },
  {
   "cell_type": "code",
   "execution_count": 4,
   "metadata": {},
   "outputs": [
    {
     "data": {
      "text/html": [
       "\n",
       "            <style>\n",
       "                .geemap-dark {\n",
       "                    --jp-widgets-color: white;\n",
       "                    --jp-widgets-label-color: white;\n",
       "                    --jp-ui-font-color1: white;\n",
       "                    --jp-layout-color2: #454545;\n",
       "                    background-color: #383838;\n",
       "                }\n",
       "\n",
       "                .geemap-dark .jupyter-button {\n",
       "                    --jp-layout-color3: #383838;\n",
       "                }\n",
       "\n",
       "                .geemap-colab {\n",
       "                    background-color: var(--colab-primary-surface-color, white);\n",
       "                }\n",
       "\n",
       "                .geemap-colab .jupyter-button {\n",
       "                    --jp-layout-color3: var(--colab-primary-surface-color, white);\n",
       "                }\n",
       "            </style>\n",
       "            "
      ],
      "text/plain": [
       "<IPython.core.display.HTML object>"
      ]
     },
     "metadata": {},
     "output_type": "display_data"
    }
   ],
   "source": [
    "ee.Authenticate()\n",
    "ee.Initialize(project='ee-kmd232323')"
   ]
  },
  {
   "cell_type": "code",
   "execution_count": 5,
   "metadata": {},
   "outputs": [
    {
     "data": {
      "text/html": [
       "\n",
       "            <style>\n",
       "                .geemap-dark {\n",
       "                    --jp-widgets-color: white;\n",
       "                    --jp-widgets-label-color: white;\n",
       "                    --jp-ui-font-color1: white;\n",
       "                    --jp-layout-color2: #454545;\n",
       "                    background-color: #383838;\n",
       "                }\n",
       "\n",
       "                .geemap-dark .jupyter-button {\n",
       "                    --jp-layout-color3: #383838;\n",
       "                }\n",
       "\n",
       "                .geemap-colab {\n",
       "                    background-color: var(--colab-primary-surface-color, white);\n",
       "                }\n",
       "\n",
       "                .geemap-colab .jupyter-button {\n",
       "                    --jp-layout-color3: var(--colab-primary-surface-color, white);\n",
       "                }\n",
       "            </style>\n",
       "            "
      ],
      "text/plain": [
       "<IPython.core.display.HTML object>"
      ]
     },
     "metadata": {},
     "output_type": "display_data"
    }
   ],
   "source": [
    "import ee\n",
    "ee.Initialize()\n"
   ]
  },
  {
   "cell_type": "code",
   "execution_count": null,
   "metadata": {},
   "outputs": [
    {
     "data": {
      "text/html": [
       "\n",
       "            <style>\n",
       "                .geemap-dark {\n",
       "                    --jp-widgets-color: white;\n",
       "                    --jp-widgets-label-color: white;\n",
       "                    --jp-ui-font-color1: white;\n",
       "                    --jp-layout-color2: #454545;\n",
       "                    background-color: #383838;\n",
       "                }\n",
       "\n",
       "                .geemap-dark .jupyter-button {\n",
       "                    --jp-layout-color3: #383838;\n",
       "                }\n",
       "\n",
       "                .geemap-colab {\n",
       "                    background-color: var(--colab-primary-surface-color, white);\n",
       "                }\n",
       "\n",
       "                .geemap-colab .jupyter-button {\n",
       "                    --jp-layout-color3: var(--colab-primary-surface-color, white);\n",
       "                }\n",
       "            </style>\n",
       "            "
      ],
      "text/plain": [
       "<IPython.core.display.HTML object>"
      ]
     },
     "metadata": {},
     "output_type": "display_data"
    },
    {
     "name": "stdout",
     "output_type": "stream",
     "text": [
      "✅ Export started! Monitor it in the Earth Engine Tasks tab.\n"
     ]
    }
   ],
   "source": [
    "# Load Maharashtra district shapefile\n",
    "maha = ee.FeatureCollection(\"users/kmd232323/Maha_districts\")\n",
    "\n",
    "# Define years and months of interest\n",
    "years = [2021, 2022]\n",
    "months = range(5, 12)  # May to November\n",
    "\n",
    "# Define band calculation functions\n",
    "def addNDVI(image):\n",
    "    ndvi = image.normalizedDifference(['sur_refl_b02', 'sur_refl_b01']).rename('NDVI')\n",
    "    return image.addBands(ndvi)\n",
    "\n",
    "def addNDWI(image):\n",
    "    ndwi = image.normalizedDifference(['sur_refl_b04', 'sur_refl_b02']).rename('NDWI')\n",
    "    return image.addBands(ndwi)\n",
    "\n",
    "def scaleLST(image):    \n",
    "    lst_celsius = image.select('LST_Day_1km').multiply(0.02).subtract(ee.Image.constant(273.15)).rename('LST')\n",
    "    return image.addBands(lst_celsius)\n",
    "\n",
    "\n",
    "    \n",
    "# Get MODIS NDVI/NDWI\n",
    "def get_ndvi_ndwi(year, month):\n",
    "    start = ee.Date.fromYMD(year, month, 1)\n",
    "    end = start.advance(1, 'month')\n",
    "    return ee.ImageCollection(\"MODIS/061/MOD09GA\") \\\n",
    "        .filterDate(start, end) \\\n",
    "        .filterBounds(maha) \\\n",
    "        .map(addNDVI).map(addNDWI) \\\n",
    "        .median() \\\n",
    "        .set('system:time_start', start.millis()) \\\n",
    "        .clip(maha)\n",
    "\n",
    "# Get MODIS LST\n",
    "def get_lst(year, month):\n",
    "    start = ee.Date.fromYMD(year, month, 1)\n",
    "    end = start.advance(1, 'month')\n",
    "    return ee.ImageCollection(\"MODIS/061/MOD11A1\") \\\n",
    "        .filterDate(start, end) \\\n",
    "        .filterBounds(maha) \\\n",
    "        .map(scaleLST) \\\n",
    "        .median() \\\n",
    "        .set('system:time_start', start.millis()) \\\n",
    "        .clip(maha)\n",
    "\n",
    "# Get CHIRPS Rainfall\n",
    "def get_rainfall(year, month):\n",
    "    start = ee.Date.fromYMD(year, month, 1)\n",
    "    end = start.advance(1, 'month')\n",
    "    return ee.ImageCollection(\"UCSB-CHG/CHIRPS/DAILY\") \\\n",
    "        .filterDate(start, end) \\\n",
    "        .filterBounds(maha) \\\n",
    "        .sum() \\\n",
    "        .rename(\"Rainfall\") \\\n",
    "        .set('system:time_start', start.millis()) \\\n",
    "        .clip(maha)\n",
    "\n",
    "# MAI = AET / PET; here we simulate with NDVI * Rainfall / PET\n",
    "def calculate_mai(image):\n",
    "    PET = ee.Number(100)  # Simulated constant PET, replace if actual PET is available\n",
    "    mai = image.expression(\n",
    "        '(ndvi * rain) / PET', {\n",
    "            'ndvi': image.select('NDVI'),\n",
    "            'rain': image.select('Rainfall'),\n",
    "            'PET': PET\n",
    "        }\n",
    "    ).rename('MAI')\n",
    "    return image.addBands(mai)\n",
    "\n",
    "# SPI calculation\n",
    "def calculate_spi(image):\n",
    "    rainfall = image.select('Rainfall')\n",
    "    mean_rainfall = rainfall.reduceRegion(\n",
    "        reducer=ee.Reducer.mean(),\n",
    "        geometry=maha,\n",
    "        scale=1000\n",
    "    ).get('Rainfall')\n",
    "    \n",
    "    std_rainfall = rainfall.reduceRegion(\n",
    "        reducer=ee.Reducer.stdDev(),\n",
    "        geometry=maha,\n",
    "        scale=1000\n",
    "    ).get('Rainfall')\n",
    "    \n",
    "    spi = rainfall.subtract(ee.Image.constant(mean_rainfall)).divide(ee.Image.constant(std_rainfall)).rename('SPI')\n",
    "\n",
    "    return image.addBands(spi)\n",
    "\n",
    "# Define drought labels based on SPI\n",
    "\n",
    "# Correct Drought Labeling based on SPI\n",
    "def add_drought_label(image):\n",
    "    spi = image.select('SPI')\n",
    "    \n",
    "    # Create masks\n",
    "    drought_mask = spi.lt(-1)\n",
    "    wet_mask = spi.gt(1)\n",
    "    normal_mask = spi.gte(-1).And(spi.lte(1))\n",
    "    \n",
    "    # Assign labels\n",
    "    drought_label = (\n",
    "        drought_mask.multiply(1)  # Drought = 1\n",
    "        .add(wet_mask.multiply(0))  # Wet merged into Normal = 0\n",
    "        .add(normal_mask.multiply(0))  # Normal = 0\n",
    "    ).rename('Drought_Label')\n",
    "    \n",
    "    return image.addBands(drought_label)\n",
    "\n",
    "\n",
    "\n",
    "# Merge all bands from the same month and add drought label\n",
    "def merge_features_with_labels(year, month):\n",
    "    ndvi_ndwi = get_ndvi_ndwi(year, month)\n",
    "    lst = get_lst(year, month)\n",
    "    rainfall = get_rainfall(year, month)\n",
    "\n",
    "    merged = lst.addBands(ndvi_ndwi.select(['NDVI', 'NDWI'])) \\\n",
    "                .addBands(rainfall.select('Rainfall')) \\\n",
    "                .set('system:time_start', lst.get('system:time_start'))\n",
    "\n",
    "    merged_with_mai = calculate_mai(merged)\n",
    "    merged_with_spi = calculate_spi(merged_with_mai)  # Add SPI calculation\n",
    "    merged_with_labels = add_drought_label(merged_with_spi)  # Add the drought labels\n",
    "    \n",
    "    return merged_with_labels\n",
    "\n",
    "# Build image collection\n",
    "merged_images = [merge_features_with_labels(y, m) for y in years for m in months]\n",
    "merged_collection = ee.ImageCollection(merged_images)\n",
    "\n",
    "# Extract mean per district for each image\n",
    "def extract_district_features(image):\n",
    "    date = image.date().format(\"YYYY-MM-dd\")\n",
    "    stats = image.select(['NDVI', 'NDWI', 'LST', 'Rainfall', 'MAI', 'SPI', 'Drought_Label']) \\\n",
    "        .reduceRegions(\n",
    "            collection=maha,\n",
    "            reducer=ee.Reducer.mean(),\n",
    "            scale=1000\n",
    "        ).map(lambda f: f.set('date', date).set('NAME_2', f.get('NAME_2')))\n",
    "    return stats\n",
    "\n",
    "district_stats = merged_collection.map(extract_district_features).flatten()\n",
    "\n",
    "# Export to Drive as CSV\n",
    "task = ee.batch.Export.table.toDrive(\n",
    "    collection=district_stats,\n",
    "    description='Maha_Drought_Features_with_labels',\n",
    "    fileFormat='CSV'\n",
    ")\n",
    "task.start()\n",
    "\n",
    "print(\"✅ Export started! Monitor it in the Earth Engine Tasks tab.\")\n"
   ]
  },
  {
   "cell_type": "code",
   "execution_count": 7,
   "metadata": {},
   "outputs": [
    {
     "data": {
      "text/html": [
       "\n",
       "            <style>\n",
       "                .geemap-dark {\n",
       "                    --jp-widgets-color: white;\n",
       "                    --jp-widgets-label-color: white;\n",
       "                    --jp-ui-font-color1: white;\n",
       "                    --jp-layout-color2: #454545;\n",
       "                    background-color: #383838;\n",
       "                }\n",
       "\n",
       "                .geemap-dark .jupyter-button {\n",
       "                    --jp-layout-color3: #383838;\n",
       "                }\n",
       "\n",
       "                .geemap-colab {\n",
       "                    background-color: var(--colab-primary-surface-color, white);\n",
       "                }\n",
       "\n",
       "                .geemap-colab .jupyter-button {\n",
       "                    --jp-layout-color3: var(--colab-primary-surface-color, white);\n",
       "                }\n",
       "            </style>\n",
       "            "
      ],
      "text/plain": [
       "<IPython.core.display.HTML object>"
      ]
     },
     "metadata": {},
     "output_type": "display_data"
    }
   ],
   "source": [
    "# Load your exported CSV\n",
    "df = pd.read_csv('C:/Ketaki Dharmadhikari/Engineering/4th Year/Remote Sensing OEA/Maha_Drought_Features_with_labels.csv')\n",
    "\n",
    "scaler = MinMaxScaler()\n",
    "df['Rainfall_norm'] = scaler.fit_transform(df[['Rainfall']])\n",
    "\n",
    "scaler = MinMaxScaler()\n",
    "df['LST_norm'] = scaler.fit_transform(df[['LST']])\n",
    "\n",
    "# List of columns to DROP\n",
    "drop_cols = [\n",
    "    'system:index', 'CC_2', 'COUNTRY', 'ENGTYPE_2', 'GID_0', 'GID_1', 'GID_2',\n",
    "    'HASC_2', 'NAME_1', 'NL_NAME_1', 'NL_NAME_2', 'TYPE_2', 'VARNAME_2','Rainfall','LST'\n",
    "]\n",
    "\n",
    "# Drop unwanted columns\n",
    "df_cleaned = df.drop(columns=drop_cols, errors='ignore')\n",
    "\n",
    "# Save for visualization (keep .geo column)\n",
    "df_cleaned.to_csv('district_drought_viz.csv', index=False)\n",
    "\n",
    "# Save for ML modeling (remove .geo column)\n",
    "df_model = df_cleaned.drop(columns=['.geo'], errors='ignore')\n",
    "df_model.to_csv('district_drought_model.csv', index=False)"
   ]
  },
  {
   "cell_type": "code",
   "execution_count": 13,
   "metadata": {},
   "outputs": [
    {
     "data": {
      "text/html": [
       "\n",
       "            <style>\n",
       "                .geemap-dark {\n",
       "                    --jp-widgets-color: white;\n",
       "                    --jp-widgets-label-color: white;\n",
       "                    --jp-ui-font-color1: white;\n",
       "                    --jp-layout-color2: #454545;\n",
       "                    background-color: #383838;\n",
       "                }\n",
       "\n",
       "                .geemap-dark .jupyter-button {\n",
       "                    --jp-layout-color3: #383838;\n",
       "                }\n",
       "\n",
       "                .geemap-colab {\n",
       "                    background-color: var(--colab-primary-surface-color, white);\n",
       "                }\n",
       "\n",
       "                .geemap-colab .jupyter-button {\n",
       "                    --jp-layout-color3: var(--colab-primary-surface-color, white);\n",
       "                }\n",
       "            </style>\n",
       "            "
      ],
      "text/plain": [
       "<IPython.core.display.HTML object>"
      ]
     },
     "metadata": {},
     "output_type": "display_data"
    },
    {
     "name": "stdout",
     "output_type": "stream",
     "text": [
      "Label distribution:\n",
      " Drought_Label\n",
      "0.000000    183\n",
      "1.000000      3\n",
      "0.009824      1\n",
      "0.062704      1\n",
      "0.638165      1\n",
      "           ... \n",
      "0.187917      1\n",
      "0.771804      1\n",
      "0.427846      1\n",
      "0.035677      1\n",
      "0.154650      1\n",
      "Name: count, Length: 320, dtype: int64\n"
     ]
    }
   ],
   "source": [
    "import pandas as pd\n",
    "\n",
    "# Load your dataset\n",
    "df = pd.read_csv('district_drought_model.csv')\n",
    "\n",
    "# Merge Wet (2) into Normal (0)\n",
    "df['Drought_Label'] = df['Drought_Label'].replace({2: 0})\n",
    "\n",
    "# ✅ CHECK: Count the samples per class\n",
    "print(\"Label distribution:\\n\", df['Drought_Label'].value_counts())\n"
   ]
  },
  {
   "cell_type": "code",
   "execution_count": 12,
   "metadata": {},
   "outputs": [
    {
     "data": {
      "text/html": [
       "\n",
       "            <style>\n",
       "                .geemap-dark {\n",
       "                    --jp-widgets-color: white;\n",
       "                    --jp-widgets-label-color: white;\n",
       "                    --jp-ui-font-color1: white;\n",
       "                    --jp-layout-color2: #454545;\n",
       "                    background-color: #383838;\n",
       "                }\n",
       "\n",
       "                .geemap-dark .jupyter-button {\n",
       "                    --jp-layout-color3: #383838;\n",
       "                }\n",
       "\n",
       "                .geemap-colab {\n",
       "                    background-color: var(--colab-primary-surface-color, white);\n",
       "                }\n",
       "\n",
       "                .geemap-colab .jupyter-button {\n",
       "                    --jp-layout-color3: var(--colab-primary-surface-color, white);\n",
       "                }\n",
       "            </style>\n",
       "            "
      ],
      "text/plain": [
       "<IPython.core.display.HTML object>"
      ]
     },
     "metadata": {},
     "output_type": "display_data"
    },
    {
     "data": {
      "image/png": "[encoded data removed]",
      "text/plain": [
       "<Figure size 640x480 with 1 Axes>"
      ]
     },
     "metadata": {},
     "output_type": "display_data"
    },
    {
     "data": {
      "image/png": "[encoded data removed]",
      "text/plain": [
       "<Figure size 800x600 with 2 Axes>"
      ]
     },
     "metadata": {},
     "output_type": "display_data"
    },
    {
     "ename": "ValueError",
     "evalue": "The least populated class in y has only 1 member, which is too few. The minimum number of groups for any class cannot be less than 2.",
     "output_type": "error",
     "traceback": [
      "\u001b[31m---------------------------------------------------------------------------\u001b[39m",
      "\u001b[31mValueError\u001b[39m                                Traceback (most recent call last)",
      "\u001b[36mCell\u001b[39m\u001b[36m \u001b[39m\u001b[32mIn[12]\u001b[39m\u001b[32m, line 37\u001b[39m\n\u001b[32m     32\u001b[39m plt.show()\n\u001b[32m     34\u001b[39m \u001b[38;5;66;03m# ✨ Model Training\u001b[39;00m\n\u001b[32m     35\u001b[39m \n\u001b[32m     36\u001b[39m \u001b[38;5;66;03m# Split into train/test (now stratify works)\u001b[39;00m\n\u001b[32m---> \u001b[39m\u001b[32m37\u001b[39m X_train, X_test, y_train, y_test = \u001b[43mtrain_test_split\u001b[49m\u001b[43m(\u001b[49m\n\u001b[32m     38\u001b[39m \u001b[43m    \u001b[49m\u001b[43mX\u001b[49m\u001b[43m,\u001b[49m\u001b[43m \u001b[49m\u001b[43my\u001b[49m\u001b[43m,\u001b[49m\u001b[43m \u001b[49m\u001b[43mtest_size\u001b[49m\u001b[43m=\u001b[49m\u001b[32;43m0.3\u001b[39;49m\u001b[43m,\u001b[49m\u001b[43m \u001b[49m\u001b[43mrandom_state\u001b[49m\u001b[43m=\u001b[49m\u001b[32;43m42\u001b[39;49m\u001b[43m,\u001b[49m\u001b[43m \u001b[49m\u001b[43mstratify\u001b[49m\u001b[43m=\u001b[49m\u001b[43my\u001b[49m\n\u001b[32m     39\u001b[39m \u001b[43m)\u001b[49m\n\u001b[32m     41\u001b[39m \u001b[38;5;66;03m# Train Random Forest\u001b[39;00m\n\u001b[32m     42\u001b[39m rf = RandomForestClassifier(n_estimators=\u001b[32m100\u001b[39m, random_state=\u001b[32m42\u001b[39m, class_weight=\u001b[33m'\u001b[39m\u001b[33mbalanced\u001b[39m\u001b[33m'\u001b[39m)\n",
      "\u001b[36mFile \u001b[39m\u001b[32mc:\\Ketaki Dharmadhikari\\Engineering\\4th Year\\Remote Sensing OEA\\.venv\\Lib\\site-packages\\sklearn\\utils\\_param_validation.py:216\u001b[39m, in \u001b[36mvalidate_params.<locals>.decorator.<locals>.wrapper\u001b[39m\u001b[34m(*args, **kwargs)\u001b[39m\n\u001b[32m    210\u001b[39m \u001b[38;5;28;01mtry\u001b[39;00m:\n\u001b[32m    211\u001b[39m     \u001b[38;5;28;01mwith\u001b[39;00m config_context(\n\u001b[32m    212\u001b[39m         skip_parameter_validation=(\n\u001b[32m    213\u001b[39m             prefer_skip_nested_validation \u001b[38;5;129;01mor\u001b[39;00m global_skip_validation\n\u001b[32m    214\u001b[39m         )\n\u001b[32m    215\u001b[39m     ):\n\u001b[32m--> \u001b[39m\u001b[32m216\u001b[39m         \u001b[38;5;28;01mreturn\u001b[39;00m \u001b[43mfunc\u001b[49m\u001b[43m(\u001b[49m\u001b[43m*\u001b[49m\u001b[43margs\u001b[49m\u001b[43m,\u001b[49m\u001b[43m \u001b[49m\u001b[43m*\u001b[49m\u001b[43m*\u001b[49m\u001b[43mkwargs\u001b[49m\u001b[43m)\u001b[49m\n\u001b[32m    217\u001b[39m \u001b[38;5;28;01mexcept\u001b[39;00m InvalidParameterError \u001b[38;5;28;01mas\u001b[39;00m e:\n\u001b[32m    218\u001b[39m     \u001b[38;5;66;03m# When the function is just a wrapper around an estimator, we allow\u001b[39;00m\n\u001b[32m    219\u001b[39m     \u001b[38;5;66;03m# the function to delegate validation to the estimator, but we replace\u001b[39;00m\n\u001b[32m    220\u001b[39m     \u001b[38;5;66;03m# the name of the estimator by the name of the function in the error\u001b[39;00m\n\u001b[32m    221\u001b[39m     \u001b[38;5;66;03m# message to avoid confusion.\u001b[39;00m\n\u001b[32m    222\u001b[39m     msg = re.sub(\n\u001b[32m    223\u001b[39m         \u001b[33mr\u001b[39m\u001b[33m\"\u001b[39m\u001b[33mparameter of \u001b[39m\u001b[33m\\\u001b[39m\u001b[33mw+ must be\u001b[39m\u001b[33m\"\u001b[39m,\n\u001b[32m    224\u001b[39m         \u001b[33mf\u001b[39m\u001b[33m\"\u001b[39m\u001b[33mparameter of \u001b[39m\u001b[38;5;132;01m{\u001b[39;00mfunc.\u001b[34m__qualname__\u001b[39m\u001b[38;5;132;01m}\u001b[39;00m\u001b[33m must be\u001b[39m\u001b[33m\"\u001b[39m,\n\u001b[32m    225\u001b[39m         \u001b[38;5;28mstr\u001b[39m(e),\n\u001b[32m    226\u001b[39m     )\n",
      "\u001b[36mFile \u001b[39m\u001b[32mc:\\Ketaki Dharmadhikari\\Engineering\\4th Year\\Remote Sensing OEA\\.venv\\Lib\\site-packages\\sklearn\\model_selection\\_split.py:2872\u001b[39m, in \u001b[36mtrain_test_split\u001b[39m\u001b[34m(test_size, train_size, random_state, shuffle, stratify, *arrays)\u001b[39m\n\u001b[32m   2868\u001b[39m         CVClass = ShuffleSplit\n\u001b[32m   2870\u001b[39m     cv = CVClass(test_size=n_test, train_size=n_train, random_state=random_state)\n\u001b[32m-> \u001b[39m\u001b[32m2872\u001b[39m     train, test = \u001b[38;5;28;43mnext\u001b[39;49m\u001b[43m(\u001b[49m\u001b[43mcv\u001b[49m\u001b[43m.\u001b[49m\u001b[43msplit\u001b[49m\u001b[43m(\u001b[49m\u001b[43mX\u001b[49m\u001b[43m=\u001b[49m\u001b[43marrays\u001b[49m\u001b[43m[\u001b[49m\u001b[32;43m0\u001b[39;49m\u001b[43m]\u001b[49m\u001b[43m,\u001b[49m\u001b[43m \u001b[49m\u001b[43my\u001b[49m\u001b[43m=\u001b[49m\u001b[43mstratify\u001b[49m\u001b[43m)\u001b[49m\u001b[43m)\u001b[49m\n\u001b[32m   2874\u001b[39m train, test = ensure_common_namespace_device(arrays[\u001b[32m0\u001b[39m], train, test)\n\u001b[32m   2876\u001b[39m \u001b[38;5;28;01mreturn\u001b[39;00m \u001b[38;5;28mlist\u001b[39m(\n\u001b[32m   2877\u001b[39m     chain.from_iterable(\n\u001b[32m   2878\u001b[39m         (_safe_indexing(a, train), _safe_indexing(a, test)) \u001b[38;5;28;01mfor\u001b[39;00m a \u001b[38;5;129;01min\u001b[39;00m arrays\n\u001b[32m   2879\u001b[39m     )\n\u001b[32m   2880\u001b[39m )\n",
      "\u001b[36mFile \u001b[39m\u001b[32mc:\\Ketaki Dharmadhikari\\Engineering\\4th Year\\Remote Sensing OEA\\.venv\\Lib\\site-packages\\sklearn\\model_selection\\_split.py:1909\u001b[39m, in \u001b[36mBaseShuffleSplit.split\u001b[39m\u001b[34m(self, X, y, groups)\u001b[39m\n\u001b[32m   1879\u001b[39m \u001b[38;5;250m\u001b[39m\u001b[33;03m\"\"\"Generate indices to split data into training and test set.\u001b[39;00m\n\u001b[32m   1880\u001b[39m \n\u001b[32m   1881\u001b[39m \u001b[33;03mParameters\u001b[39;00m\n\u001b[32m   (...)\u001b[39m\u001b[32m   1906\u001b[39m \u001b[33;03mto an integer.\u001b[39;00m\n\u001b[32m   1907\u001b[39m \u001b[33;03m\"\"\"\u001b[39;00m\n\u001b[32m   1908\u001b[39m X, y, groups = indexable(X, y, groups)\n\u001b[32m-> \u001b[39m\u001b[32m1909\u001b[39m \u001b[43m\u001b[49m\u001b[38;5;28;43;01mfor\u001b[39;49;00m\u001b[43m \u001b[49m\u001b[43mtrain\u001b[49m\u001b[43m,\u001b[49m\u001b[43m \u001b[49m\u001b[43mtest\u001b[49m\u001b[43m \u001b[49m\u001b[38;5;129;43;01min\u001b[39;49;00m\u001b[43m \u001b[49m\u001b[38;5;28;43mself\u001b[39;49m\u001b[43m.\u001b[49m\u001b[43m_iter_indices\u001b[49m\u001b[43m(\u001b[49m\u001b[43mX\u001b[49m\u001b[43m,\u001b[49m\u001b[43m \u001b[49m\u001b[43my\u001b[49m\u001b[43m,\u001b[49m\u001b[43m \u001b[49m\u001b[43mgroups\u001b[49m\u001b[43m)\u001b[49m\u001b[43m:\u001b[49m\n\u001b[32m   1910\u001b[39m \u001b[43m    \u001b[49m\u001b[38;5;28;43;01myield\u001b[39;49;00m\u001b[43m \u001b[49m\u001b[43mtrain\u001b[49m\u001b[43m,\u001b[49m\u001b[43m \u001b[49m\u001b[43mtest\u001b[49m\n",
      "\u001b[36mFile \u001b[39m\u001b[32mc:\\Ketaki Dharmadhikari\\Engineering\\4th Year\\Remote Sensing OEA\\.venv\\Lib\\site-packages\\sklearn\\model_selection\\_split.py:2318\u001b[39m, in \u001b[36mStratifiedShuffleSplit._iter_indices\u001b[39m\u001b[34m(self, X, y, groups)\u001b[39m\n\u001b[32m   2316\u001b[39m class_counts = np.bincount(y_indices)\n\u001b[32m   2317\u001b[39m \u001b[38;5;28;01mif\u001b[39;00m np.min(class_counts) < \u001b[32m2\u001b[39m:\n\u001b[32m-> \u001b[39m\u001b[32m2318\u001b[39m     \u001b[38;5;28;01mraise\u001b[39;00m \u001b[38;5;167;01mValueError\u001b[39;00m(\n\u001b[32m   2319\u001b[39m         \u001b[33m\"\u001b[39m\u001b[33mThe least populated class in y has only 1\u001b[39m\u001b[33m\"\u001b[39m\n\u001b[32m   2320\u001b[39m         \u001b[33m\"\u001b[39m\u001b[33m member, which is too few. The minimum\u001b[39m\u001b[33m\"\u001b[39m\n\u001b[32m   2321\u001b[39m         \u001b[33m\"\u001b[39m\u001b[33m number of groups for any class cannot\u001b[39m\u001b[33m\"\u001b[39m\n\u001b[32m   2322\u001b[39m         \u001b[33m\"\u001b[39m\u001b[33m be less than 2.\u001b[39m\u001b[33m\"\u001b[39m\n\u001b[32m   2323\u001b[39m     )\n\u001b[32m   2325\u001b[39m \u001b[38;5;28;01mif\u001b[39;00m n_train < n_classes:\n\u001b[32m   2326\u001b[39m     \u001b[38;5;28;01mraise\u001b[39;00m \u001b[38;5;167;01mValueError\u001b[39;00m(\n\u001b[32m   2327\u001b[39m         \u001b[33m\"\u001b[39m\u001b[33mThe train_size = \u001b[39m\u001b[38;5;132;01m%d\u001b[39;00m\u001b[33m should be greater or \u001b[39m\u001b[33m\"\u001b[39m\n\u001b[32m   2328\u001b[39m         \u001b[33m\"\u001b[39m\u001b[33mequal to the number of classes = \u001b[39m\u001b[38;5;132;01m%d\u001b[39;00m\u001b[33m\"\u001b[39m % (n_train, n_classes)\n\u001b[32m   2329\u001b[39m     )\n",
      "\u001b[31mValueError\u001b[39m: The least populated class in y has only 1 member, which is too few. The minimum number of groups for any class cannot be less than 2."
     ]
    }
   ],
   "source": [
    "import pandas as pd\n",
    "import matplotlib.pyplot as plt\n",
    "import seaborn as sns\n",
    "from sklearn.ensemble import RandomForestClassifier\n",
    "from sklearn.model_selection import train_test_split, cross_val_score\n",
    "from sklearn.metrics import classification_report, confusion_matrix\n",
    "\n",
    "# Load the dataset\n",
    "df = pd.read_csv('district_drought_model.csv')\n",
    "\n",
    "# 🔥 Merge Wet (2) into Normal (0)\n",
    "df['Drought_Label'] = df['Drought_Label'].replace({2: 0})\n",
    "\n",
    "# Features and label\n",
    "feature_cols = ['NDVI', 'NDWI', 'MAI', 'Rainfall_norm', 'LST_norm']\n",
    "X = df[feature_cols]\n",
    "y = df['Drought_Label']  # 0 = Normal/Wet, 1 = Drought\n",
    "\n",
    "# ✨ Basic Visualization (after merging)\n",
    "\n",
    "# 1. Distribution of Drought Labels\n",
    "sns.countplot(x=y)\n",
    "plt.title('Distribution of Drought Labels (after merging Wet with Normal)')\n",
    "plt.xlabel('Drought Class (0=Normal/Wet, 1=Drought)')\n",
    "plt.ylabel('Count')\n",
    "plt.show()\n",
    "\n",
    "# 2. Correlation Heatmap\n",
    "plt.figure(figsize=(8,6))\n",
    "sns.heatmap(df[feature_cols + ['Drought_Label']].corr(), annot=True, cmap='coolwarm')\n",
    "plt.title('Feature Correlation Heatmap')\n",
    "plt.show()\n",
    "\n",
    "# ✨ Model Training\n",
    "\n",
    "# Split into train/test (now stratify works)\n",
    "X_train, X_test, y_train, y_test = train_test_split(\n",
    "    X, y, test_size=0.3, random_state=42, stratify=y\n",
    ")\n",
    "\n",
    "# Train Random Forest\n",
    "rf = RandomForestClassifier(n_estimators=100, random_state=42, class_weight='balanced')\n",
    "rf.fit(X_train, y_train)\n",
    "\n",
    "# Predict\n",
    "y_pred = rf.predict(X_test)\n",
    "\n",
    "# ✨ Model Evaluation\n",
    "\n",
    "print(\"\\n=== Classification Report ===\")\n",
    "print(classification_report(y_test, y_pred))\n",
    "\n",
    "print(\"\\n=== Confusion Matrix ===\")\n",
    "conf_mat = confusion_matrix(y_test, y_pred)\n",
    "sns.heatmap(conf_mat, annot=True, fmt='d', cmap='Blues')\n",
    "plt.xlabel('Predicted')\n",
    "plt.ylabel('Actual')\n",
    "plt.title('Random Forest Confusion Matrix')\n",
    "plt.show()\n",
    "\n",
    "# ✨ Feature Importance Plot\n",
    "\n",
    "importances = rf.feature_importances_\n",
    "feat_importance = pd.Series(importances, index=feature_cols).sort_values(ascending=False)\n",
    "\n",
    "plt.figure(figsize=(8,6))\n",
    "sns.barplot(x=feat_importance.values, y=feat_importance.index)\n",
    "plt.title('Feature Importance')\n",
    "plt.xlabel('Importance Score')\n",
    "plt.ylabel('Features')\n",
    "plt.show()\n",
    "\n",
    "# ✨ Save Prediction Results\n",
    "\n",
    "# Predict full dataset\n",
    "df['Predicted_Drought_Label'] = rf.predict(X)\n",
    "\n",
    "# Save to CSV for dashboard use\n",
    "df.to_csv('district_drought_predictions.csv', index=False)\n",
    "\n",
    "print(\"✅ Predictions saved to district_drought_predictions.csv\")\n"
   ]
  }
 ],
 "metadata": {
  "kernelspec": {
   "display_name": ".venv",
   "language": "python",
   "name": "python3"
  },
  "language_info": {
   "codemirror_mode": {
    "name": "ipython",
    "version": 3
   },
   "file_extension": ".py",
   "mimetype": "text/x-python",
   "name": "python",
   "nbconvert_exporter": "python",
   "pygments_lexer": "ipython3",
   "version": "3.11.0"
  }
 },
 "nbformat": 4,
 "nbformat_minor": 2
}
